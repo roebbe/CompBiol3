{
 "cells": [
  {
   "cell_type": "markdown",
   "id": "6dcf7748-c151-4651-bec4-ae3683193ad2",
   "metadata": {},
   "source": [
    "# My first Jupyter Notebook"
   ]
  },
  {
   "cell_type": "code",
   "execution_count": 2,
   "id": "e41ef5af-340f-40ae-8e3f-a0e40f06eeed",
   "metadata": {},
   "outputs": [
    {
     "name": "stdout",
     "output_type": "stream",
     "text": [
      "Thu Jan  4 08:54:27 PM CET 2024\n"
     ]
    }
   ],
   "source": [
    "date"
   ]
  },
  {
   "cell_type": "markdown",
   "id": "7ff6f4ee-bbb6-47fe-a238-48e4dea50ad1",
   "metadata": {},
   "source": [
    "Let us add a new line to *datum.txt*"
   ]
  },
  {
   "cell_type": "code",
   "execution_count": 3,
   "id": "36d430a3-cbc6-4d06-a457-352260a0e3d4",
   "metadata": {},
   "outputs": [],
   "source": [
    "date >> datum.txt"
   ]
  },
  {
   "cell_type": "code",
   "execution_count": null,
   "id": "145d8ae7-5030-46cb-800c-955a54e95168",
   "metadata": {},
   "outputs": [],
   "source": []
  }
 ],
 "metadata": {
  "kernelspec": {
   "display_name": "Bash",
   "language": "bash",
   "name": "bash"
  },
  "language_info": {
   "codemirror_mode": "shell",
   "file_extension": ".sh",
   "mimetype": "text/x-sh",
   "name": "bash"
  }
 },
 "nbformat": 4,
 "nbformat_minor": 5
}
